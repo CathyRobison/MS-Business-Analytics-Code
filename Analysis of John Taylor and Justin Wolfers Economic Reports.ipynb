{
 "cells": [
  {
   "cell_type": "markdown",
   "metadata": {},
   "source": [
    "# Analysis of Economic Data and Research done by John Taylor and Justin Wolfers\n",
    "## This analysis was done to uncover biases and errors made by economists, John Taylor and Justin Wolfers in their analyses of the relationship between unemployment and government spening.\n",
    "### By Cathy Robison, Logan Guerry, Freddy Zhang, Meg O'Connell"
   ]
  },
  {
   "cell_type": "code",
   "execution_count": 1,
   "metadata": {},
   "outputs": [],
   "source": [
    "#Data can be found on github repo\n",
    "unemp <- read.csv('UNRATE.csv',header = T)\n",
    "gdp <- read.csv('GDP.csv', header = T)\n",
    "spend <- read.csv('GCE.csv',header = T)\n"
   ]
  },
  {
   "cell_type": "code",
   "execution_count": 11,
   "metadata": {},
   "outputs": [
    {
     "name": "stderr",
     "output_type": "stream",
     "text": [
      "Joining by: DATE\n"
     ]
    },
    {
     "data": {
      "text/html": [
       "<table>\n",
       "<thead><tr><th scope=col>DATE</th><th scope=col>GDP</th><th scope=col>UNRATE</th></tr></thead>\n",
       "<tbody>\n",
       "\t<tr><td>1/1/1948 </td><td>265.742  </td><td>3.4      </td></tr>\n",
       "\t<tr><td>4/1/1948 </td><td>272.567  </td><td>3.9      </td></tr>\n",
       "\t<tr><td>7/1/1948 </td><td>279.196  </td><td>3.6      </td></tr>\n",
       "\t<tr><td>10/1/1948</td><td>280.366  </td><td>3.7      </td></tr>\n",
       "\t<tr><td>1/1/1949 </td><td>275.034  </td><td>4.3      </td></tr>\n",
       "</tbody>\n",
       "</table>\n"
      ],
      "text/latex": [
       "\\begin{tabular}{r|lll}\n",
       " DATE & GDP & UNRATE\\\\\n",
       "\\hline\n",
       "\t 1/1/1948  & 265.742   & 3.4      \\\\\n",
       "\t 4/1/1948  & 272.567   & 3.9      \\\\\n",
       "\t 7/1/1948  & 279.196   & 3.6      \\\\\n",
       "\t 10/1/1948 & 280.366   & 3.7      \\\\\n",
       "\t 1/1/1949  & 275.034   & 4.3      \\\\\n",
       "\\end{tabular}\n"
      ],
      "text/markdown": [
       "\n",
       "DATE | GDP | UNRATE | \n",
       "|---|---|---|---|---|\n",
       "| 1/1/1948  | 265.742   | 3.4       | \n",
       "| 4/1/1948  | 272.567   | 3.9       | \n",
       "| 7/1/1948  | 279.196   | 3.6       | \n",
       "| 10/1/1948 | 280.366   | 3.7       | \n",
       "| 1/1/1949  | 275.034   | 4.3       | \n",
       "\n",
       "\n"
      ],
      "text/plain": [
       "  DATE      GDP     UNRATE\n",
       "1 1/1/1948  265.742 3.4   \n",
       "2 4/1/1948  272.567 3.9   \n",
       "3 7/1/1948  279.196 3.6   \n",
       "4 10/1/1948 280.366 3.7   \n",
       "5 1/1/1949  275.034 4.3   "
      ]
     },
     "metadata": {},
     "output_type": "display_data"
    },
    {
     "name": "stderr",
     "output_type": "stream",
     "text": [
      "Joining by: DATE\n"
     ]
    },
    {
     "data": {
      "text/html": [
       "282"
      ],
      "text/latex": [
       "282"
      ],
      "text/markdown": [
       "282"
      ],
      "text/plain": [
       "[1] 282"
      ]
     },
     "metadata": {},
     "output_type": "display_data"
    },
    {
     "data": {
      "text/html": [
       "<table>\n",
       "<thead><tr><th scope=col>DATE</th><th scope=col>GDP</th><th scope=col>UNRATE</th><th scope=col>SPENT</th></tr></thead>\n",
       "<tbody>\n",
       "\t<tr><td>1/1/1948 </td><td>265.742  </td><td>3.4      </td><td>40.875   </td></tr>\n",
       "\t<tr><td>4/1/1948 </td><td>272.567  </td><td>3.9      </td><td>42.884   </td></tr>\n",
       "\t<tr><td>7/1/1948 </td><td>279.196  </td><td>3.6      </td><td>44.660   </td></tr>\n",
       "\t<tr><td>10/1/1948</td><td>280.366  </td><td>3.7      </td><td>46.603   </td></tr>\n",
       "\t<tr><td>1/1/1949 </td><td>275.034  </td><td>4.3      </td><td>48.585   </td></tr>\n",
       "</tbody>\n",
       "</table>\n"
      ],
      "text/latex": [
       "\\begin{tabular}{r|llll}\n",
       " DATE & GDP & UNRATE & SPENT\\\\\n",
       "\\hline\n",
       "\t 1/1/1948  & 265.742   & 3.4       & 40.875   \\\\\n",
       "\t 4/1/1948  & 272.567   & 3.9       & 42.884   \\\\\n",
       "\t 7/1/1948  & 279.196   & 3.6       & 44.660   \\\\\n",
       "\t 10/1/1948 & 280.366   & 3.7       & 46.603   \\\\\n",
       "\t 1/1/1949  & 275.034   & 4.3       & 48.585   \\\\\n",
       "\\end{tabular}\n"
      ],
      "text/markdown": [
       "\n",
       "DATE | GDP | UNRATE | SPENT | \n",
       "|---|---|---|---|---|\n",
       "| 1/1/1948  | 265.742   | 3.4       | 40.875    | \n",
       "| 4/1/1948  | 272.567   | 3.9       | 42.884    | \n",
       "| 7/1/1948  | 279.196   | 3.6       | 44.660    | \n",
       "| 10/1/1948 | 280.366   | 3.7       | 46.603    | \n",
       "| 1/1/1949  | 275.034   | 4.3       | 48.585    | \n",
       "\n",
       "\n"
      ],
      "text/plain": [
       "  DATE      GDP     UNRATE SPENT \n",
       "1 1/1/1948  265.742 3.4    40.875\n",
       "2 4/1/1948  272.567 3.9    42.884\n",
       "3 7/1/1948  279.196 3.6    44.660\n",
       "4 10/1/1948 280.366 3.7    46.603\n",
       "5 1/1/1949  275.034 4.3    48.585"
      ]
     },
     "metadata": {},
     "output_type": "display_data"
    },
    {
     "data": {
      "text/html": [
       "<table>\n",
       "<thead><tr><th></th><th scope=col>DATE</th><th scope=col>GDP</th><th scope=col>UNRATE</th><th scope=col>SPENT</th><th scope=col>SpGDP</th></tr></thead>\n",
       "<tbody>\n",
       "\t<tr><th scope=row>169</th><td>1990-01-01</td><td>5872.701  </td><td>5.4       </td><td>1212.450  </td><td>20.64553  </td></tr>\n",
       "\t<tr><th scope=row>170</th><td>1990-04-01</td><td>5960.028  </td><td>5.4       </td><td>1230.721  </td><td>20.64958  </td></tr>\n",
       "\t<tr><th scope=row>171</th><td>1990-07-01</td><td>6015.116  </td><td>5.5       </td><td>1242.584  </td><td>20.65769  </td></tr>\n",
       "\t<tr><th scope=row>172</th><td>1990-10-01</td><td>6004.733  </td><td>5.9       </td><td>1268.467  </td><td>21.12445  </td></tr>\n",
       "\t<tr><th scope=row>173</th><td>1991-01-01</td><td>6035.178  </td><td>6.4       </td><td>1284.187  </td><td>21.27836  </td></tr>\n",
       "</tbody>\n",
       "</table>\n"
      ],
      "text/latex": [
       "\\begin{tabular}{r|lllll}\n",
       "  & DATE & GDP & UNRATE & SPENT & SpGDP\\\\\n",
       "\\hline\n",
       "\t169 & 1990-01-01 & 5872.701   & 5.4        & 1212.450   & 20.64553  \\\\\n",
       "\t170 & 1990-04-01 & 5960.028   & 5.4        & 1230.721   & 20.64958  \\\\\n",
       "\t171 & 1990-07-01 & 6015.116   & 5.5        & 1242.584   & 20.65769  \\\\\n",
       "\t172 & 1990-10-01 & 6004.733   & 5.9        & 1268.467   & 21.12445  \\\\\n",
       "\t173 & 1991-01-01 & 6035.178   & 6.4        & 1284.187   & 21.27836  \\\\\n",
       "\\end{tabular}\n"
      ],
      "text/markdown": [
       "\n",
       "| <!--/--> | DATE | GDP | UNRATE | SPENT | SpGDP | \n",
       "|---|---|---|---|---|\n",
       "| 169 | 1990-01-01 | 5872.701   | 5.4        | 1212.450   | 20.64553   | \n",
       "| 170 | 1990-04-01 | 5960.028   | 5.4        | 1230.721   | 20.64958   | \n",
       "| 171 | 1990-07-01 | 6015.116   | 5.5        | 1242.584   | 20.65769   | \n",
       "| 172 | 1990-10-01 | 6004.733   | 5.9        | 1268.467   | 21.12445   | \n",
       "| 173 | 1991-01-01 | 6035.178   | 6.4        | 1284.187   | 21.27836   | \n",
       "\n",
       "\n"
      ],
      "text/plain": [
       "    DATE       GDP      UNRATE SPENT    SpGDP   \n",
       "169 1990-01-01 5872.701 5.4    1212.450 20.64553\n",
       "170 1990-04-01 5960.028 5.4    1230.721 20.64958\n",
       "171 1990-07-01 6015.116 5.5    1242.584 20.65769\n",
       "172 1990-10-01 6004.733 5.9    1268.467 21.12445\n",
       "173 1991-01-01 6035.178 6.4    1284.187 21.27836"
      ]
     },
     "metadata": {},
     "output_type": "display_data"
    },
    {
     "data": {
      "text/html": [
       "83"
      ],
      "text/latex": [
       "83"
      ],
      "text/markdown": [
       "83"
      ],
      "text/plain": [
       "[1] 83"
      ]
     },
     "metadata": {},
     "output_type": "display_data"
    },
    {
     "data": {
      "text/html": [
       "83"
      ],
      "text/latex": [
       "83"
      ],
      "text/markdown": [
       "83"
      ],
      "text/plain": [
       "[1] 83"
      ]
     },
     "metadata": {},
     "output_type": "display_data"
    }
   ],
   "source": [
    "colnames(spend) = c('DATE',\"SPENT\")\n",
    "\n",
    "#loading in color brewer\n",
    "library(plyr)\n",
    "library(RColorBrewer)\n",
    "taylor_col <- brewer.pal(n=11, 'Spectral')\n",
    "\n",
    "#joining data sets together\n",
    "ug<-join(gdp,unemp,\n",
    "         type = 'inner')\n",
    "ugs<-join(ug,spend, \n",
    "          type = 'inner')\n",
    "nrow(ugs)\n",
    "head(ugs,5)\n",
    "\n",
    "#Formatting the date column so it is uniform and we can manipulate it later\n",
    "ugs$DATE <- strptime(as.character(ugs$DATE), \"%m/%d/%Y\")\n",
    "ugs$DATE <-  format(as.Date(ugs$DATE), \"%Y-%m-%d\")\n",
    "\n",
    "#Creating a new column to look at government spending as a percentage of GDP\n",
    "ugs$SpGDP <- ugs$SPENT/ugs$GDP*100\n",
    "\n",
    "#Getting the dates (Q1 1990 - Q3 2010) John Taylor used to look at the relationship between government spending as \n",
    "#a precentage of GDP and unemployment\n",
    "taylor <- ugs[ugs$DATE >= as.Date('1990-01-01', format =\"%Y-%m-%d\") & ugs$DATE <= as.Date('2010-07-01', format =\"%Y-%m-%d\"),]\n",
    "complementary <- ugs[ugs$DATE < as.Date('1990-01-01', format =\"%Y-%m-%d\") | ugs$DATE > as.Date('2010-07-01', format =\"%Y-%m-%d\"),]\n",
    "head(taylor,5)\n",
    "length(taylor$UNRATE)\n",
    "length(taylor$SpGDP)\n",
    "labs<- seq(16.0,25.0, by = .5)"
   ]
  },
  {
   "cell_type": "code",
   "execution_count": 3,
   "metadata": {},
   "outputs": [
    {
     "data": {
      "text/html": [],
      "text/latex": [],
      "text/markdown": [],
      "text/plain": [
       "numeric(0)"
      ]
     },
     "metadata": {},
     "output_type": "display_data"
    },
    {
     "data": {
      "image/png": "[encoded data removed]",
      "text/plain": [
       "plot without title"
      ]
     },
     "metadata": {},
     "output_type": "display_data"
    }
   ],
   "source": [
    "#The recreation of John Taylor's plot\n",
    "plot(taylor$SpGDP, taylor$UNRATE, xaxt = 'n', xaxs = 'i', xlim = c(17,21.5), ylim = c(3,11),axes=F,\n",
    "     xlab = 'Government Purchases as Percent of GDP', ylab = 'Unemployment Rate', col = taylor_col[10], pch = 16)+\n",
    "  axis(1, at = seq(16.0,21.0, by = .5))+\n",
    "  axis(2, at = seq(3,11, by =1))\n"
   ]
  },
  {
   "cell_type": "code",
   "execution_count": 4,
   "metadata": {},
   "outputs": [
    {
     "ename": "ERROR",
     "evalue": "Error in plot(taylor$SpGDP, taylor$UNRATE, xaxt = \"n\", xaxs = \"i\", xlim = c(17, : non-numeric argument to binary operator\n",
     "output_type": "error",
     "traceback": [
      "Error in plot(taylor$SpGDP, taylor$UNRATE, xaxt = \"n\", xaxs = \"i\", xlim = c(17, : non-numeric argument to binary operator\nTraceback:\n"
     ]
    },
    {
     "data": {
      "image/png": "[encoded data removed]",
      "text/plain": [
       "Plot with title \"Comparison of Taylor Report and Full Data Set\""
      ]
     },
     "metadata": {},
     "output_type": "display_data"
    }
   ],
   "source": [
    "#This looking at John Taylor's plot (Q1 1990 - Q3 2010) and the entire data set. \n",
    "plot(taylor$SpGDP, taylor$UNRATE, xaxt = 'n', xaxs = 'i', xlim = c(17,24.5), ylim = c(3,11),axes=F,\n",
    "     main = 'Comparison of Taylor Report and Full Data Set',\n",
    "     xlab = 'Government Purchases as Percent of GDP', ylab = 'Unemployment Rate', col = taylor_col[10], pch = 16)+\n",
    "  points(complementary$SpGDP, complementary$UNRATE, xaxt = 'n', xaxs = 'i', xlim = c(17,24.5), ylim = c(3,11),\n",
    "       xlab = 'Government Purchases as Percent of GDP', ylab = 'Unemployment Rate', col = taylor_col[2], pch = 8)+\n",
    "  axis(1, at = seq(16.0,25.0, by = .5), labels = labs,cex.axis=.75)+\n",
    "  axis(2, at = seq(3,11, by =1))+\n",
    "  legend(x = c(17, 19), y = c(10, 11), legend = c(\"Taylor Report\", \"Full Data Set\"), fill = c(taylor_col[10], taylor_col[2]), col = c(taylor_col[10], taylor_col[2]), cex = .85)\n",
    "\n",
    "\n",
    "plot(ugs$SpGDP, ugs$UNRATE, xaxt = 'n', xaxs = 'i', xlim = c(17,21.5), ylim = c(3,11),\n",
    "     axes=F, main = 'From \"1948-01-01\" to \"2018-04-01\"',\n",
    "     xlab = 'Government Purchases as Percent of GDP', ylab = 'Unemployment Rate', col = taylor_col[2], pch = 16)+\n",
    "  axis(1, at = seq(16.0,21.0, by = .5), labels = labs,cex.axis=.75)+\n",
    "  axis(2, at = seq(3,11, by =1))\n",
    "\n",
    "#Taylor represents the data as having a positive relationship but when looking the entire dataset it appears there is no\n",
    "#relationship "
   ]
  },
  {
   "cell_type": "code",
   "execution_count": 5,
   "metadata": {},
   "outputs": [
    {
     "data": {
      "text/html": [
       "<table>\n",
       "<thead><tr><th scope=col>QY</th><th scope=col>decadeCor</th></tr></thead>\n",
       "<tbody>\n",
       "\t<tr><td>1948      </td><td>-0.3378537</td></tr>\n",
       "\t<tr><td>1948      </td><td>-0.3607989</td></tr>\n",
       "\t<tr><td>1948      </td><td>-0.3126263</td></tr>\n",
       "\t<tr><td>1948      </td><td>-0.2992365</td></tr>\n",
       "\t<tr><td>1949      </td><td>-0.3086264</td></tr>\n",
       "\t<tr><td>1949      </td><td>-0.3155819</td></tr>\n",
       "</tbody>\n",
       "</table>\n"
      ],
      "text/latex": [
       "\\begin{tabular}{r|ll}\n",
       " QY & decadeCor\\\\\n",
       "\\hline\n",
       "\t 1948       & -0.3378537\\\\\n",
       "\t 1948       & -0.3607989\\\\\n",
       "\t 1948       & -0.3126263\\\\\n",
       "\t 1948       & -0.2992365\\\\\n",
       "\t 1949       & -0.3086264\\\\\n",
       "\t 1949       & -0.3155819\\\\\n",
       "\\end{tabular}\n"
      ],
      "text/markdown": [
       "\n",
       "QY | decadeCor | \n",
       "|---|---|---|---|---|---|\n",
       "| 1948       | -0.3378537 | \n",
       "| 1948       | -0.3607989 | \n",
       "| 1948       | -0.3126263 | \n",
       "| 1948       | -0.2992365 | \n",
       "| 1949       | -0.3086264 | \n",
       "| 1949       | -0.3155819 | \n",
       "\n",
       "\n"
      ],
      "text/plain": [
       "  QY   decadeCor \n",
       "1 1948 -0.3378537\n",
       "2 1948 -0.3607989\n",
       "3 1948 -0.3126263\n",
       "4 1948 -0.2992365\n",
       "5 1949 -0.3086264\n",
       "6 1949 -0.3155819"
      ]
     },
     "metadata": {},
     "output_type": "display_data"
    },
    {
     "data": {
      "text/html": [],
      "text/latex": [],
      "text/markdown": [],
      "text/plain": [
       "numeric(0)"
      ]
     },
     "metadata": {},
     "output_type": "display_data"
    },
    {
     "data": {
      "image/png": "[encoded data removed]",
      "text/plain": [
       "Plot with title \"Correlation by Year\""
      ]
     },
     "metadata": {},
     "output_type": "display_data"
    }
   ],
   "source": [
    "#Examinig the correlation that Taylor presents in his scatter plot. Analysis of correlation done by quarter and decade.  \n",
    "decadeCor <- vector(mode = 'numeric', length = 242)\n",
    "QY <- rep(seq(from = 1948, to = 2018, by = 1), each = 4) \n",
    "QY <- QY[1:242]\n",
    "for (i in 1:length(decadeCor)){\n",
    "  decadeCor[i] <- cor(ugs$SpGDP[i:(39 +i)], ugs$UNRATE[i:(39+i)])\n",
    "}\n",
    "\n",
    "df <- data.frame(QY,decadeCor)\n",
    "head(df)\n",
    "\n",
    "#Finding the mean correlation by quarter\n",
    "meanCorYear<-aggregate(decadeCor ~ QY, FUN=mean, data=df)\n",
    "\n",
    "plot(meanCorYear$QY, meanCorYear$decadeCor,main = 'Correlation by Year', \n",
    "     ylab = 'Correlation between Unemp Rate and GovSpend % of GDP', xlab = 'Decade', col = 'blue3', pch=16, axes=F)+\n",
    "    axis(1, at = seq(1948, 2008, by = 4))+\n",
    "    axis(2, at = seq(-1.0, 0.6, by = 0.2))\n",
    "\n",
    "#the correlation between government spending as a percentage of GDP and the national unemployment rate, \n",
    "#though rather volatile before the 1990’s, is rather cyclical since that time. Although significant spikes in \n",
    "#correlation are evident in the graph, such as the one in the mid-1950’s, these spikes typically only last for \n",
    "#roughly five years before returning to a level much closer to that at the start of the decade in question.\n",
    "\n"
   ]
  },
  {
   "cell_type": "code",
   "execution_count": 14,
   "metadata": {},
   "outputs": [
    {
     "ename": "ERROR",
     "evalue": "Error in plot(CherryPicked, col = \"red\", ylim = c(-0.5, 0.6), pch = 2) + : non-numeric argument to binary operator\n",
     "output_type": "error",
     "traceback": [
      "Error in plot(CherryPicked, col = \"red\", ylim = c(-0.5, 0.6), pch = 2) + : non-numeric argument to binary operator\nTraceback:\n"
     ]
    },
    {
     "data": {
      "image/png": "[encoded data removed]",
      "text/plain": [
       "plot without title"
      ]
     },
     "metadata": {},
     "output_type": "display_data"
    }
   ],
   "source": [
    "#simulating the process of “cherry picking” in Wolfers’terminology, and to evaluate the seriousness of this part of the criticism\n",
    "CherryPicked = c()\n",
    "NotCherryPicked = c()\n",
    "for (ii in 1:1000) {\n",
    "  x=rnorm(256)\n",
    "  y=rnorm(256)\n",
    "  index = 1\n",
    "  output = c()\n",
    "  for (i in 60:256) {\n",
    "    output[index] <- cor(tail(x,i), tail(y,i))\n",
    "    index = index + 1 \n",
    "  }\n",
    "  CherryPicked[ii] = max(output) # lowest correlation\n",
    "  NotCherryPicked[ii] = tail(output,1) # last one means the correlation over the entire sample \n",
    "}\n",
    "\n",
    "# visual of the cherry picked data\n",
    "library('scales')\n",
    "plot(CherryPicked, col = 'red', ylim = c(-0.5, 0.6),  pch = 2)+\n",
    "points(NotCherryPicked, col = 'blue', ylim = c(-0.5, 0.6),  pch = 6)+\n",
    "legend(0,0.6, legend = c(\"Cherry Picked\", \"Not Cherry Picked\"), fill = c('red', 'blue'), col = c('red', 'blue'), cex = .65)\n",
    "\n",
    "#By looking at the plot below we can see that the cherry picked data has a hgiher correlation than the non cherry picked data"
   ]
  },
  {
   "cell_type": "code",
   "execution_count": 7,
   "metadata": {},
   "outputs": [
    {
     "data": {
      "text/plain": [
       "\n",
       "\tWelch Two Sample t-test\n",
       "\n",
       "data:  CherryPicked and NotCherryPicked\n",
       "t = 23.513, df = 1742.6, p-value < 2.2e-16\n",
       "alternative hypothesis: true difference in means is not equal to 0\n",
       "95 percent confidence interval:\n",
       " 0.07741906 0.09151031\n",
       "sample estimates:\n",
       " mean of x  mean of y \n",
       "0.08562770 0.00116301 \n"
      ]
     },
     "metadata": {},
     "output_type": "display_data"
    },
    {
     "data": {
      "text/plain": [
       "\n",
       "\tPaired t-test\n",
       "\n",
       "data:  CherryPicked and NotCherryPicked\n",
       "t = 39.89, df = 999, p-value < 2.2e-16\n",
       "alternative hypothesis: true difference in means is not equal to 0\n",
       "95 percent confidence interval:\n",
       " 0.08030958 0.08861980\n",
       "sample estimates:\n",
       "mean of the differences \n",
       "             0.08446469 \n"
      ]
     },
     "metadata": {},
     "output_type": "display_data"
    }
   ],
   "source": [
    "# numerical evidence\n",
    "t.test(CherryPicked, NotCherryPicked)\n",
    "\n",
    "# A paired t-test is used to compare two population means where you have two samples in which observations \n",
    "# in one sample can be paired with observations in the other sample.\n",
    "t.test(CherryPicked, NotCherryPicked, paired=TRUE)\n",
    "\n",
    "# Based on the result, at 95% confidence level, there is significant difference (p-value < 2.2e-16) of the two means. \n",
    "# Here we should reject the null hypothesis that the two means are equal because the p-value is less than 0.05. \n",
    "# The maximum difference of the mean can be as low as -0.08700986 and as high as -0.07861949(result may be different).\n",
    "# Overall, Cherry Picked Correlation is lower than Not Cherry Picked Correlation.\n"
   ]
  },
  {
   "cell_type": "code",
   "execution_count": 9,
   "metadata": {},
   "outputs": [
    {
     "ename": "ERROR",
     "evalue": "Error in hist(NotCherryPicked, add = T, col = alpha(\"blue\", 0.3)) + legend(\"topright\", : non-numeric argument to binary operator\n",
     "output_type": "error",
     "traceback": [
      "Error in hist(NotCherryPicked, add = T, col = alpha(\"blue\", 0.3)) + legend(\"topright\", : non-numeric argument to binary operator\nTraceback:\n"
     ]
    },
    {
     "data": {
      "image/png": "[encoded data removed]",
      "text/plain": [
       "Plot with title \"Histogram of CherryPicked\""
      ]
     },
     "metadata": {},
     "output_type": "display_data"
    }
   ],
   "source": [
    "hist(CherryPicked, col = alpha('red' ,.3), ylim = c(0,300))\n",
    "hist(NotCherryPicked, add = T,col=alpha('blue',.3))+\n",
    "  legend('topright', legend = c(\"Cherry Picked\", \"Not Cherry Picked\"), fill = c(alpha('red',.3),alpha('blue',.3)), col = c('red', 'blue'), cex = .45)\n",
    "#The non cherry picked data, represented by the blue, is a unimodal, narrowly distributed graph with a mean around 0. \n",
    "#The cherry picked data, represented by the red, is more widely distributed. It’s slightly right skewed with a mean around 0.8."
   ]
  },
  {
   "cell_type": "code",
   "execution_count": null,
   "metadata": {},
   "outputs": [],
   "source": []
  }
 ],
 "metadata": {
  "kernelspec": {
   "display_name": "R",
   "language": "R",
   "name": "ir"
  },
  "language_info": {
   "codemirror_mode": "r",
   "file_extension": ".r",
   "mimetype": "text/x-r-source",
   "name": "R",
   "pygments_lexer": "r",
   "version": "3.5.1"
  }
 },
 "nbformat": 4,
 "nbformat_minor": 2
}
